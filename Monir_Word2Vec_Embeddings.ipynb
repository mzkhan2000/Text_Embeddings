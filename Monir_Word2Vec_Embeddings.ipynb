{
  "nbformat": 4,
  "nbformat_minor": 0,
  "metadata": {
    "colab": {
      "name": "Monir_Word2Vec_Embeddings.ipynb",
      "provenance": [],
      "authorship_tag": "ABX9TyO6hHw5nILkGQH9kaL09A+u",
      "include_colab_link": true
    },
    "kernelspec": {
      "name": "python3",
      "display_name": "Python 3"
    },
    "language_info": {
      "name": "python"
    }
  },
  "cells": [
    {
      "cell_type": "markdown",
      "metadata": {
        "id": "view-in-github",
        "colab_type": "text"
      },
      "source": [
        "<a href=\"https://colab.research.google.com/github/mzkhan2000/Text_Embeddings/blob/main/Monir_Word2Vec_Embeddings.ipynb\" target=\"_parent\"><img src=\"https://colab.research.google.com/assets/colab-badge.svg\" alt=\"Open In Colab\"/></a>"
      ]
    },
    {
      "cell_type": "code",
      "execution_count": 2,
      "metadata": {
        "colab": {
          "base_uri": "https://localhost:8080/"
        },
        "id": "mR90mP7DwJnK",
        "outputId": "944939c6-afb2-4be4-8a70-eb954bde7b15"
      },
      "outputs": [
        {
          "output_type": "stream",
          "name": "stdout",
          "text": [
            "Looking in indexes: https://pypi.org/simple, https://us-python.pkg.dev/colab-wheels/public/simple/\n",
            "Requirement already satisfied: gensim in /usr/local/lib/python3.7/dist-packages (3.6.0)\n",
            "Collecting gensim\n",
            "  Downloading gensim-4.2.0-cp37-cp37m-manylinux_2_12_x86_64.manylinux2010_x86_64.whl (24.1 MB)\n",
            "\u001b[K     |████████████████████████████████| 24.1 MB 1.4 MB/s \n",
            "\u001b[?25hRequirement already satisfied: numpy>=1.17.0 in /usr/local/lib/python3.7/dist-packages (from gensim) (1.21.6)\n",
            "Requirement already satisfied: scipy>=0.18.1 in /usr/local/lib/python3.7/dist-packages (from gensim) (1.4.1)\n",
            "Requirement already satisfied: smart-open>=1.8.1 in /usr/local/lib/python3.7/dist-packages (from gensim) (6.0.0)\n",
            "Installing collected packages: gensim\n",
            "  Attempting uninstall: gensim\n",
            "    Found existing installation: gensim 3.6.0\n",
            "    Uninstalling gensim-3.6.0:\n",
            "      Successfully uninstalled gensim-3.6.0\n",
            "Successfully installed gensim-4.2.0\n",
            "[nltk_data] Downloading package punkt to /root/nltk_data...\n",
            "[nltk_data]   Unzipping tokenizers/punkt.zip.\n"
          ]
        }
      ],
      "source": [
        "# Python program to generate embedding (word vectors) using Word2Vec\n",
        "\n",
        "# importing necessary modules for embedding\n",
        "!pip install --upgrade gensim\n",
        "\n",
        "import nltk\n",
        "nltk.download('punkt')\n",
        "\n",
        "# importing all necessary modules\n",
        "from nltk.tokenize import sent_tokenize, word_tokenize\n",
        "import warnings\n",
        "\n",
        "warnings.filterwarnings(action = 'ignore')\n",
        "\n",
        "import gensim\n",
        "from gensim.models import Word2Vec\n",
        "from gensim.models import KeyedVectors\n",
        "from gensim.scripts.glove2word2vec import glove2word2vec\n",
        "\n",
        "import numpy\n",
        "import multiprocessing\n",
        "import re, string # using to remove regular expression, special characters in txt files\n"
      ]
    },
    {
      "cell_type": "code",
      "source": [
        "text = \"\"\"\n",
        "                                                      They will support you and you will be expected to support them. \n",
        "                           <br><br><strong>Desired Skills and \n",
        "                           Experience</strong><br><br>More than any other skill, \n",
        "                           we value a willingness to learn and a positive attitude. \n",
        "                           You'll need to be able to adapt to a wide range of technologies in this role, \n",
        "                           but we'll support you every step of the way. We expect strong communication skills, \n",
        "                           deep experience with both front-end and server-side development, \n",
        "                           and experience with agile software development. We don&rsquo;t \n",
        "                           require specific framework or language experience, \n",
        "                           however we expect candidates to have an interest in skilling up in the .Net stack if \n",
        "                           they haven&rsquo;t yet. &nbsp;</p>\\n<p>We expect you&rsquo;ll have used <em>some</em> of the \n",
        "                           following technologies and frameworks to deliver complete solutions:</p>\\n<ul>\\n<\n",
        "                           li>Javascript / Typescript</li>\\n<li>React / Angular / Vue</li>\\n<li>WebPack</li>\\n<li>HTML5 \n",
        "                           and CSS3 (Bootstrap, Bulma, etc)</li>\\n<li>Testing frameworks (Karma, Jasmine, Mocha, Jest etc)</li>\\n<li>Continuous Integration (CI) / Continuous Delivery (CD) techniques</li>\\n<li>Strong experience with a server side programming language (C#, Go, Java, Ruby, Python, Rust, Kotlin, F#, Node etc)</li>\\n<li>Experience with Agile delivery methods</li>\\n</ul>\\n<p>For bonus points, you may also have hands-on experience with the following:</p>\\n<ul>\\n<li>Apache Cordova / React Native / Xamarin</li>\\n<li>DevOps and Cloud services using AWS / Azure (ARM, CloudFormation)</li>\\n<li>Experience consulting</li>\\n</ul>\\n<p><br><strong>Benefits</strong></p>\\n<ul>\\n<li>Work with some of the best, most well-known minds in software development</li>\\n<li>Less time in meetings, more time shipping</li>\\n<li>20 days / year of Paid Professional Development</li>\\n<li>Profit Share Scheme</li>\\n<li>Mobile, internet and software allowance</li>\\n<li>$4,200 toolkit allowance renewed every 2 years</li>\\n<li>Purchased annual leave scheme</li>\\n</ul></HTML> \n",
        "                           Senior Developer | SA\n",
        "<HTML><p>Readify helps organizations innovate with technology by providing high value software and digital services. Since 2001, Readify has a strong record of helping customers in a range of industries to develop and support innovative software projects. We use agile principles and practices to form autonomous, collaborative and cross-functional teams with our customers. Readify embraces open source software, both as consumers and producers, and offer a generous paid professional development scheme. <br><br><strong>The Role</strong><br><br>As a Senior Software Developer you'll provide our clients with an extremely high level of technical expertise and represent Readify as a technical expert in the wider community. You'll have the chance to make an impact in the development of complex, disruptive solutions for a wide range of organizations.<br><br>You will be able to apply your passion for technology and problem solving, using the latest, cutting edge technologies whilst working alongside and learning from talented, knowledgeable and experienced software development consultants. <br><br>You will have the opportunity to shape the way that companies deliver software and to work with people who believe in routinely shipping quality software to production. You will need the humility to listen to customers and learn from your peers. <br><br>This is a great role for someone who is self-motivated and loves seeing clients excited about solutions to their business problems. As a consulting organization, there may be the opportunity to travel interstate and collaborate with your interstate colleagues.<br><br><strong>The Responsibilities</strong><br><br>* Design, develop, test and deliver custom software solutions <br><br>* Directly collaborate with clients on a daily basis<br><br>* Form part of an elite delivery team. They will support you and you will be expected to support them. <br><br><strong>Desired Skills and Experience</strong><br><br>More than any other skill, we value a willingness to learn and a positive attitude. You'll need to be able to adapt to a wide range of technologies in this role, but we'll support you every step of the way. We expect strong communication skills, deep experience with both front-end and server-side development, and experience with agile software development. We don&rsquo;t require specific framework or language experience, however we expect candidates to have an interest in skilling up in the .Net stack if they haven&rsquo;t yet. &nbsp;</p>\n",
        "<p>We expect you&rsquo;ll have used <em>some</em> of the following technologies and frameworks to deliver complete solutions:</p>\n",
        "<ul>\n",
        "<li>Javascript / Typescript</li>\n",
        "<li>React / Angular / Vue</li>\n",
        "<li>WebPack</li>\n",
        "<li>HTML5 and CSS3 (Bootstrap, Bulma, etc)</li>\n",
        "<li>Testing frameworks (Karma, Jasmine, Mocha, Jest etc)</li>\n",
        "<li>Continuous Integration (CI) / Continuous Delivery (CD) techniques</li>\n",
        "<li>Strong experience with a server side programming language (C#, Go, Java, Ruby, Python, Rust, Kotlin, F#, Node etc)</li>\n",
        "<li>Experience with Agile delivery methods</li>\n",
        "</ul>\n",
        "<p>For bonus points, you may also have hands-on experience with the following:</p>\n",
        "<ul>\n",
        "<li>Apache Cordova / React Native / Xamarin</li>\n",
        "<li>DevOps and Cloud services using AWS / Azure (ARM, CloudFormation)</li>\n",
        "<li>Experience consulting</li>\n",
        "</ul>\n",
        "<p><br><strong>Benefits</strong></p>\n",
        "<ul>\n",
        "<li>Work with some of the best, most well-known minds in software development</li>\n",
        "<li>Less time in meetings, more time shipping</li>\n",
        "<li>20 days / year of Paid Professional Development</li>\n",
        "<li>Profit Share Scheme</li>\n",
        "<li>Mobile, internet and software allowance</li>\n",
        "<li>$4,200 toolkit allowance renewed every 2 years</li>\n",
        "<li>Purchased annual leave scheme</li>\n",
        "</ul></HTML>\n",
        "                           \"\"\""
      ],
      "metadata": {
        "id": "rLTaoND1wZR4"
      },
      "execution_count": 3,
      "outputs": []
    },
    {
      "cell_type": "code",
      "source": [
        "text = text.lower()\n",
        "text = re.sub('\\[.*?\\]', '', text)\n",
        "text = re.sub(\"\\\\W\", \" \", text)\n",
        "text = re.sub('https?://\\S+ |www\\.\\S+', '', text)\n",
        "text = re.sub('<.*?>', '', text)\n",
        "text = re.sub('[%s]' % re.escape(string.punctuation), '', text)\n",
        "text = re.sub('\\n', '', text)\n",
        "text = re.sub('\\w*\\d\\w*', '', text)"
      ],
      "metadata": {
        "id": "3PjCFsVBwiaU"
      },
      "execution_count": 22,
      "outputs": []
    },
    {
      "cell_type": "code",
      "source": [
        "# Replaces escape character with space\n",
        "f = text.replace(\"\\n\", \" \")"
      ],
      "metadata": {
        "id": "WomYNdzNwtA0"
      },
      "execution_count": 23,
      "outputs": []
    },
    {
      "cell_type": "code",
      "source": [
        "data = []\n",
        "\n",
        "# iterate through each sentence in the file\n",
        "for i in sent_tokenize(f):\n",
        "    temp = []\n",
        "\n",
        "    # tokenize the sentence into words\n",
        "    for j in word_tokenize(i):\n",
        "        temp.append(j.lower())\n",
        "\n",
        "    data.append(temp)"
      ],
      "metadata": {
        "id": "n13CqcdIw51j"
      },
      "execution_count": 24,
      "outputs": []
    },
    {
      "cell_type": "code",
      "source": [
        "# Create CBOW Word2Ve model\n",
        "embedding_model = gensim.models.Word2Vec(data, min_count = 1, vector_size = 300, window = 10)"
      ],
      "metadata": {
        "id": "bu_RUGmUw_5b"
      },
      "execution_count": 25,
      "outputs": []
    },
    {
      "cell_type": "code",
      "source": [
        "model = Word2Vec(data)"
      ],
      "metadata": {
        "id": "7D2bvMsqxmVj"
      },
      "execution_count": 28,
      "outputs": []
    },
    {
      "cell_type": "code",
      "source": [
        "'women' in model.wv"
      ],
      "metadata": {
        "colab": {
          "base_uri": "https://localhost:8080/"
        },
        "id": "ZuHNJQ69xp_y",
        "outputId": "10d4de92-6991-47bb-9682-27601c0d8821"
      },
      "execution_count": 12,
      "outputs": [
        {
          "output_type": "execute_result",
          "data": {
            "text/plain": [
              "False"
            ]
          },
          "metadata": {},
          "execution_count": 12
        }
      ]
    },
    {
      "cell_type": "code",
      "source": [
        "words = sorted(embedding_model.wv.key_to_index)"
      ],
      "metadata": {
        "id": "ysBL_0Z0xLEE"
      },
      "execution_count": 26,
      "outputs": []
    },
    {
      "cell_type": "code",
      "source": [
        "words = sorted(model.wv.key_to_index)\n",
        "print(words)"
      ],
      "metadata": {
        "colab": {
          "base_uri": "https://localhost:8080/"
        },
        "id": "L55tQEef0Qkx",
        "outputId": "bba3a47e-7d31-49ea-8617-d338870f8794"
      },
      "execution_count": 29,
      "outputs": [
        {
          "output_type": "stream",
          "name": "stdout",
          "text": [
            "['a', 'agile', 'an', 'and', 'as', 'be', 'br', 'clients', 'customers', 'deliver', 'delivery', 'development', 'etc', 'expect', 'experience', 'for', 'have', 'in', 'li', 'll', 'of', 'our', 'p', 'range', 'readify', 'role', 'rsquo', 'scheme', 'software', 'solutions', 'strong', 'support', 'technologies', 'the', 'to', 'ul', 'we', 'will', 'with', 'you', 'your']\n"
          ]
        }
      ]
    }
  ]
}